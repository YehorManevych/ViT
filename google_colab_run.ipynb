{
 "cells": [
  {
   "cell_type": "markdown",
   "metadata": {},
   "source": [
    "🚀 To enable GPU acceleration: \\\n",
    "1️⃣ Select “Runtime” from the top menu and then \\\n",
    "2️⃣ Click on “Change runtime type.” \\\n",
    "3️⃣ In the “Hardware accelerator” dropdown, select “GPU” and then \\\n",
    "4️⃣ Click “Save.”"
   ]
  },
  {
   "cell_type": "markdown",
   "metadata": {},
   "source": [
    "❗WARNING❗ This notebook requires access to your Google Drive in order to run. It's necessary to store code, datasets and models."
   ]
  },
  {
   "cell_type": "code",
   "execution_count": null,
   "metadata": {},
   "outputs": [],
   "source": [
    "# Mount the drive\n",
    "from google.colab import drive\n",
    "drive.mount('/content/gdrive')"
   ]
  },
  {
   "cell_type": "code",
   "execution_count": null,
   "metadata": {},
   "outputs": [],
   "source": [
    "# Update pip and setuptools\n",
    "%%python -m pip install -U pip\n",
    "%pip install --upgrade setuptools "
   ]
  },
  {
   "cell_type": "code",
   "execution_count": null,
   "metadata": {},
   "outputs": [],
   "source": [
    "# Restart the runtime\n",
    "import os\n",
    "os.kill(os.getpid(), 9)"
   ]
  },
  {
   "cell_type": "code",
   "execution_count": null,
   "metadata": {},
   "outputs": [],
   "source": [
    "# Clone the project\n",
    "%cd /content/gdrive/MyDrive\n",
    "!git clone https://github.com/YehorManevych/ViT"
   ]
  },
  {
   "cell_type": "code",
   "execution_count": null,
   "metadata": {},
   "outputs": [],
   "source": [
    "# Install all the modules\n",
    "%pip install --no-cache-dir -r /content/gdrive/MyDrive/ViT/requirements.txt "
   ]
  },
  {
   "cell_type": "code",
   "execution_count": null,
   "metadata": {},
   "outputs": [],
   "source": [
    "# Restart the runtime\n",
    "import os\n",
    "os.kill(os.getpid(), 9)"
   ]
  },
  {
   "cell_type": "code",
   "execution_count": null,
   "metadata": {},
   "outputs": [],
   "source": [
    "# Create the replica of ViT and compare it's performance to the reference model\n",
    "%cd /content/gdrive/MyDrive/ViT\n",
    "%run replication.ipynb"
   ]
  },
  {
   "cell_type": "code",
   "execution_count": null,
   "metadata": {},
   "outputs": [],
   "source": [
    "# Fine-tune the reference model and th replica and evaluate them\n",
    "%run fine_tuning.ipynb"
   ]
  }
 ],
 "metadata": {
  "kernelspec": {
   "display_name": "Python 3",
   "language": "python",
   "name": "python3"
  },
  "language_info": {
   "codemirror_mode": {
    "name": "ipython",
    "version": 3
   },
   "file_extension": ".py",
   "mimetype": "text/x-python",
   "name": "python",
   "nbconvert_exporter": "python",
   "pygments_lexer": "ipython3",
   "version": "3.10.7"
  },
  "orig_nbformat": 4
 },
 "nbformat": 4,
 "nbformat_minor": 2
}
