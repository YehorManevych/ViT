{
 "cells": [
  {
   "cell_type": "markdown",
   "metadata": {},
   "source": [
    "# This notebook fine-tunes the replicated ViT model on CIFAR-10 dataset"
   ]
  },
  {
   "cell_type": "code",
   "execution_count": null,
   "metadata": {},
   "outputs": [],
   "source": [
    "import torch\n",
    "import torch.nn as nn\n",
    "from torchvision.models.vision_transformer import ViT_B_16_Weights\n",
    "import torch.backends.mps\n",
    "\n",
    "from consts import *\n",
    "import data\n",
    "import eval\n",
    "import vit\n",
    "import train\n",
    "import utils"
   ]
  },
  {
   "cell_type": "code",
   "execution_count": null,
   "metadata": {},
   "outputs": [],
   "source": [
    "device = utils.get_device()"
   ]
  },
  {
   "cell_type": "code",
   "execution_count": null,
   "metadata": {},
   "outputs": [],
   "source": [
    "print(\"Loading CIFAR-10 dataset\")\n",
    "train_ds, train_dl = data.load_CIFAR(\n",
    "    train=True,\n",
    "    batch_size=BATCH,\n",
    "    transforms=ViT_B_16_Weights.DEFAULT.transforms(),\n",
    "    seed=SEED,\n",
    ")\n",
    "test_ds, test_dl = data.load_CIFAR(\n",
    "    train=False,\n",
    "    batch_size=BATCH,\n",
    "    transforms=ViT_B_16_Weights.DEFAULT.transforms(),\n",
    "    seed=SEED,\n",
    ")"
   ]
  },
  {
   "cell_type": "code",
   "execution_count": null,
   "metadata": {},
   "outputs": [],
   "source": [
    "classes = test_ds.classes"
   ]
  },
  {
   "cell_type": "code",
   "execution_count": null,
   "metadata": {},
   "outputs": [],
   "source": [
    "utils.show(test_ds, 100)"
   ]
  },
  {
   "cell_type": "markdown",
   "metadata": {},
   "source": [
    "# Fine-tuning the replicated model"
   ]
  },
  {
   "cell_type": "code",
   "execution_count": null,
   "metadata": {},
   "outputs": [],
   "source": [
    "print(\"Creating the replicated model\")\n",
    "torch.manual_seed(SEED)\n",
    "m = vit.ViT(D, IMAGE_W, PATCH, HEADS, DMLP, L, IMAGENET_CLASSES_N, DROPOUT, NORM_EPS)"
   ]
  },
  {
   "cell_type": "code",
   "execution_count": null,
   "metadata": {},
   "outputs": [],
   "source": [
    "print(\"Loading last saved ViT model\")\n",
    "m = utils.load_last_model(m)"
   ]
  },
  {
   "cell_type": "code",
   "execution_count": null,
   "metadata": {},
   "outputs": [],
   "source": [
    "print(\"Freezing the model and swapping it's classification head\")\n",
    "# freeze the model\n",
    "for p in m.parameters():\n",
    "    p.requires_grad = False\n",
    "\n",
    "# swap the classification layer\n",
    "torch.manual_seed(SEED)\n",
    "m.head = nn.Linear(in_features=D, out_features=len(classes))\n",
    "m.to(device)"
   ]
  },
  {
   "cell_type": "code",
   "execution_count": null,
   "metadata": {},
   "outputs": [],
   "source": [
    "optim = torch.optim.SGD(m.parameters(), lr=LR, momentum=MOMENTUM)"
   ]
  },
  {
   "cell_type": "code",
   "execution_count": null,
   "metadata": {},
   "outputs": [],
   "source": [
    "print(\"Fine-tuning the replicated model\")\n",
    "torch.manual_seed(SEED)\n",
    "train_metrics, test_metrics = train.train(\n",
    "    m,\n",
    "    EPOCHS,\n",
    "    train_dl,\n",
    "    test_dl,\n",
    "    device,\n",
    "    len(classes),\n",
    "    optim,\n",
    "    nn.CrossEntropyLoss(),\n",
    ")"
   ]
  },
  {
   "cell_type": "code",
   "execution_count": null,
   "metadata": {},
   "outputs": [],
   "source": [
    "eval.plot_metrics(train_metrics, test_metrics)"
   ]
  },
  {
   "cell_type": "code",
   "execution_count": null,
   "metadata": {},
   "outputs": [],
   "source": [
    "accuracy = test_metrics[eval.Metrics.ACCURACY.value][-1].item()\n",
    "utils.save_model(m, accuracy, \"FT_CIFAR\")"
   ]
  }
 ],
 "metadata": {
  "kernelspec": {
   "display_name": "Python 3",
   "language": "python",
   "name": "python3"
  },
  "language_info": {
   "codemirror_mode": {
    "name": "ipython",
    "version": 3
   },
   "file_extension": ".py",
   "mimetype": "text/x-python",
   "name": "python",
   "nbconvert_exporter": "python",
   "pygments_lexer": "ipython3",
   "version": "3.10.7"
  },
  "orig_nbformat": 4
 },
 "nbformat": 4,
 "nbformat_minor": 2
}
